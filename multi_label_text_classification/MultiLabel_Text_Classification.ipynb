{
  "cells": [
    {
      "cell_type": "markdown",
      "metadata": {},
      "source": [
        "## **Libraries**"
      ]
    },
    {
      "cell_type": "code",
      "execution_count": 1,
      "metadata": {
        "colab": {},
        "colab_type": "code",
        "id": "u7LnWSmCrtg6"
      },
      "outputs": [],
      "source": [
        "from sklearn.linear_model import SGDClassifier, LogisticRegression\n",
        "from sklearn.feature_extraction.text import TfidfVectorizer\n",
        "from sklearn.preprocessing import MultiLabelBinarizer\n",
        "from sklearn.model_selection import train_test_split\n",
        "from sklearn.multiclass import OneVsRestClassifier\n",
        "from sklearn.svm import SVC\n",
        "import pandas as pd\n",
        "import numpy as np\n",
        "import ast"
      ]
    },
    {
      "cell_type": "code",
      "execution_count": 2,
      "metadata": {
        "colab": {},
        "colab_type": "code",
        "id": "MuwZzqe8r9cF"
      },
      "outputs": [],
      "source": [
        "df = pd.read_csv('stackoverflow.csv', index_col=0) "
      ]
    },
    {
      "cell_type": "code",
      "execution_count": 3,
      "metadata": {
        "colab": {},
        "colab_type": "code",
        "id": "64Qnw-Xrsfnz"
      },
      "outputs": [],
      "source": [
        "df['Tags'] = df['Tags'].apply(lambda x: ast.literal_eval(x)) "
      ]
    },
    {
      "cell_type": "code",
      "execution_count": 4,
      "metadata": {
        "colab": {},
        "colab_type": "code",
        "id": "uFgKtOuIshoY"
      },
      "outputs": [],
      "source": [
        "binarizer = MultiLabelBinarizer()"
      ]
    },
    {
      "cell_type": "code",
      "execution_count": 5,
      "metadata": {
        "colab": {},
        "colab_type": "code",
        "id": "ln0k03ipxUzH"
      },
      "outputs": [],
      "source": [
        "y = binarizer.fit_transform(df['Tags'])"
      ]
    },
    {
      "cell_type": "code",
      "execution_count": 12,
      "metadata": {
        "colab": {},
        "colab_type": "code",
        "id": "HO32PWOfzz7n"
      },
      "outputs": [],
      "source": [
        "tfidf = TfidfVectorizer(max_features=5000, analyzer='word', ngram_range=(1,2), stop_words='english')\n",
        "X = tfidf.fit_transform(df['Text'])"
      ]
    },
    {
      "cell_type": "code",
      "execution_count": 13,
      "metadata": {
        "colab": {},
        "colab_type": "code",
        "id": "A6V0C12Y02rY"
      },
      "outputs": [],
      "source": [
        "x_train, x_test, y_train, y_test = train_test_split(X, y, test_size=0.2, random_state=42)"
      ]
    },
    {
      "cell_type": "markdown",
      "metadata": {
        "colab_type": "text",
        "id": "q1W6ZP9P2APA"
      },
      "source": [
        "**MODELLING**"
      ]
    },
    {
      "cell_type": "code",
      "execution_count": 8,
      "metadata": {
        "colab": {},
        "colab_type": "code",
        "id": "8u0Qy8ZD2Crf"
      },
      "outputs": [],
      "source": [
        "sgd = SGDClassifier()\n",
        "logistic_regression = LogisticRegression(solver='lbfgs')\n",
        "svc = SVC()"
      ]
    },
    {
      "cell_type": "code",
      "execution_count": 9,
      "metadata": {
        "colab": {},
        "colab_type": "code",
        "id": "bEbAxh9T31Eo"
      },
      "outputs": [],
      "source": [
        "def jacard_score(y_true, y_pred):\n",
        "    jacard = np.minimum(y_true, y_pred).sum(axis=1)/np.maximum(y_true, y_pred).sum(axis=1)\n",
        "    return round(jacard.mean()*100, 2)\n",
        "\n",
        "def display_score(y_pred, clf):\n",
        "    print('[INFO] Classifier: {}'.format(clf.__class__.__name__))\n",
        "    print('[INFO] Jacard score: {}'.format(jacard_score(y_test, y_pred)))\n",
        "    print()"
      ]
    },
    {
      "cell_type": "code",
      "execution_count": 14,
      "metadata": {
        "colab": {
          "base_uri": "https://localhost:8080/",
          "height": 121
        },
        "colab_type": "code",
        "id": "YVbGXhTx2lBE",
        "outputId": "04048ee2-6c8b-466a-cb31-acf78cef0429"
      },
      "outputs": [
        {
          "name": "stdout",
          "output_type": "stream",
          "text": [
            "[INFO] Classifier: SGDClassifier\n",
            "[INFO] Jacard score: 52.32\n",
            "\n",
            "[INFO] Classifier: LogisticRegression\n",
            "[INFO] Jacard score: 51.86\n",
            "\n"
          ]
        }
      ],
      "source": [
        "for classifier in [sgd, logistic_regression]:\n",
        "    clf = OneVsRestClassifier(classifier)\n",
        "    clf.fit(x_train, y_train)\n",
        "    y_pred = clf.predict(x_test)\n",
        "    display_score(y_pred, classifier)"
      ]
    },
    {
      "cell_type": "markdown",
      "metadata": {
        "colab_type": "text",
        "id": "Mp_SS5y959uM"
      },
      "source": [
        "**Model Testing**"
      ]
    },
    {
      "cell_type": "code",
      "execution_count": 15,
      "metadata": {
        "colab": {
          "base_uri": "https://localhost:8080/",
          "height": 34
        },
        "colab_type": "code",
        "id": "1nt-dKly6ALn",
        "outputId": "03995154-7a26-4f0b-91cc-5a62071d71b7"
      },
      "outputs": [
        {
          "data": {
            "text/plain": [
              "[('java', 'python')]"
            ]
          },
          "execution_count": 15,
          "metadata": {
            "tags": []
          },
          "output_type": "execute_result"
        }
      ],
      "source": [
        "test = ['how to use opencv libraries in java like we use in python']\n",
        "x = tfidf.transform(test)\n",
        "pred = clf.predict(x)\n",
        "binarizer.inverse_transform(pred)"
      ]
    }
  ],
  "metadata": {
    "accelerator": "GPU",
    "colab": {
      "collapsed_sections": [],
      "name": "MultiLabel_Text_Classification.ipynb",
      "provenance": []
    },
    "kernelspec": {
      "display_name": "Python 3",
      "name": "python3"
    }
  },
  "nbformat": 4,
  "nbformat_minor": 0
}
