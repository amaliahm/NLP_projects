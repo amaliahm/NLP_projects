{
  "cells": [
    {
      "cell_type": "markdown",
      "metadata": {},
      "source": [
        "## **Libraries**"
      ]
    },
    {
      "cell_type": "code",
      "execution_count": null,
      "metadata": {
        "colab": {},
        "colab_type": "code",
        "id": "NrmIcJlz6rQB"
      },
      "outputs": [
        {
          "name": "stdout",
          "output_type": "stream",
          "text": [
            "\n"
          ]
        }
      ],
      "source": [
        "from spacy.tokens import Span\n",
        "import spacy"
      ]
    },
    {
      "cell_type": "code",
      "execution_count": 2,
      "metadata": {
        "colab": {},
        "colab_type": "code",
        "id": "6wgu_P2l6z0Z"
      },
      "outputs": [],
      "source": [
        "nlp = spacy.load('en_core_web_sm')"
      ]
    },
    {
      "cell_type": "code",
      "execution_count": null,
      "metadata": {
        "colab": {},
        "colab_type": "code",
        "id": "xKQQnWM26-uB"
      },
      "outputs": [],
      "source": [
        "text = u'I will visit Paris on November 2021'\n",
        "doc = nlp(text)"
      ]
    },
    {
      "cell_type": "code",
      "execution_count": 9,
      "metadata": {
        "colab": {},
        "colab_type": "code",
        "id": "2D92INS37LSz"
      },
      "outputs": [],
      "source": [
        "def displayEntities(doc):\n",
        "    if doc.ents:\n",
        "        for entity in doc.ents:\n",
        "            print('Entity: {}, Label: {}, Explanation: {}'.format(entity.text, entity.label_, spacy.explain(entity.label_)))\n",
        "    else:\n",
        "        print('[INFO] No Entity found!')"
      ]
    },
    {
      "cell_type": "code",
      "execution_count": 12,
      "metadata": {
        "colab": {
          "base_uri": "https://localhost:8080/",
          "height": 52
        },
        "colab_type": "code",
        "id": "dwmLQlsp7MaF",
        "outputId": "df4d520f-c3cb-4542-9e78-60cb961a148b"
      },
      "outputs": [
        {
          "name": "stdout",
          "output_type": "stream",
          "text": [
            "Entity: Paris, Label: GPE, Explanation: Countries, cities, states\n",
            "Entity: November 2021, Label: DATE, Explanation: Absolute or relative dates or periods\n"
          ]
        }
      ],
      "source": [
        "displayEntities(doc)"
      ]
    },
    {
      "cell_type": "markdown",
      "metadata": {
        "colab_type": "text",
        "id": "9FXofUQO83Kx"
      },
      "source": [
        "## **Adding Custom Entity**"
      ]
    },
    {
      "cell_type": "code",
      "execution_count": null,
      "metadata": {
        "colab": {},
        "colab_type": "code",
        "id": "Ff5qtelH9WeM"
      },
      "outputs": [],
      "source": [
        "newText = u'SpaceX is going to lead NASA soon!'\n",
        "newDoc = nlp(newText)"
      ]
    },
    {
      "cell_type": "code",
      "execution_count": 35,
      "metadata": {
        "colab": {},
        "colab_type": "code",
        "id": "px_20TGb-GjN"
      },
      "outputs": [],
      "source": [
        "ORG = newDoc.vocab.strings[u'ORG']"
      ]
    },
    {
      "cell_type": "code",
      "execution_count": 37,
      "metadata": {
        "colab": {},
        "colab_type": "code",
        "id": "Hl-FG3gY-INL"
      },
      "outputs": [],
      "source": [
        "newEntity = Span(newDoc, 0, 1, label=ORG)"
      ]
    },
    {
      "cell_type": "code",
      "execution_count": 38,
      "metadata": {
        "colab": {},
        "colab_type": "code",
        "id": "nIOuugiz_E0R"
      },
      "outputs": [],
      "source": [
        "newDoc.ents = list(newDoc.ents)+[newEntity]"
      ]
    },
    {
      "cell_type": "code",
      "execution_count": 40,
      "metadata": {
        "colab": {
          "base_uri": "https://localhost:8080/",
          "height": 52
        },
        "colab_type": "code",
        "id": "Qpn5r3Rl_-e_",
        "outputId": "3af2847d-fffd-4927-bd96-d1dda63a4fde"
      },
      "outputs": [
        {
          "name": "stdout",
          "output_type": "stream",
          "text": [
            "Entity: SpaceX, Label: ORG, Explanation: Companies, agencies, institutions, etc.\n",
            "Entity: NASA, Label: ORG, Explanation: Companies, agencies, institutions, etc.\n"
          ]
        }
      ],
      "source": [
        "displayEntities(newDoc)"
      ]
    }
  ],
  "metadata": {
    "colab": {
      "name": "NER.ipynb",
      "provenance": []
    },
    "kernelspec": {
      "display_name": "base",
      "language": "python",
      "name": "python3"
    },
    "language_info": {
      "codemirror_mode": {
        "name": "ipython",
        "version": 3
      },
      "file_extension": ".py",
      "mimetype": "text/x-python",
      "name": "python",
      "nbconvert_exporter": "python",
      "pygments_lexer": "ipython3",
      "version": "3.11.5"
    }
  },
  "nbformat": 4,
  "nbformat_minor": 0
}
